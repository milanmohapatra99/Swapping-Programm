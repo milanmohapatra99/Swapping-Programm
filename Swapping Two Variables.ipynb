{
 "cells": [
  {
   "cell_type": "code",
   "execution_count": null,
   "id": "f22f2636",
   "metadata": {},
   "outputs": [],
   "source": [
    "MY SWAPPING PROGRAMM"
   ]
  },
  {
   "cell_type": "code",
   "execution_count": 3,
   "id": "c89590e7",
   "metadata": {},
   "outputs": [],
   "source": [
    "#Swapping String \n",
    "b1=\"First string\"\n",
    "b2=\"Second String\"\n",
    "temp=b1\n",
    "b1=b2\n",
    "b2=temp"
   ]
  },
  {
   "cell_type": "code",
   "execution_count": 4,
   "id": "3b9d4282",
   "metadata": {},
   "outputs": [
    {
     "name": "stdout",
     "output_type": "stream",
     "text": [
      "Second String\n",
      "First string\n"
     ]
    }
   ],
   "source": [
    "print(b1)\n",
    "print(b2)"
   ]
  },
  {
   "cell_type": "code",
   "execution_count": 5,
   "id": "8feac273",
   "metadata": {},
   "outputs": [],
   "source": [
    "#Swapping Variable By Using 3rd Variable \n",
    "a=50\n",
    "b=80\n",
    "temp=a\n",
    "a=b\n",
    "b=temp"
   ]
  },
  {
   "cell_type": "code",
   "execution_count": 6,
   "id": "bf5bc60b",
   "metadata": {},
   "outputs": [
    {
     "name": "stdout",
     "output_type": "stream",
     "text": [
      "80\n",
      "50\n"
     ]
    }
   ],
   "source": [
    "print(a)\n",
    "print(b)"
   ]
  },
  {
   "cell_type": "code",
   "execution_count": 7,
   "id": "de8c3e29",
   "metadata": {},
   "outputs": [],
   "source": [
    "#print Swapping Variable Without Using 3rd variable\n",
    "x=79\n",
    "y=58\n",
    "x=x+y\n",
    "y=x-y\n",
    "x=x-y"
   ]
  },
  {
   "cell_type": "code",
   "execution_count": 8,
   "id": "73297290",
   "metadata": {},
   "outputs": [
    {
     "name": "stdout",
     "output_type": "stream",
     "text": [
      "58\n",
      "79\n"
     ]
    }
   ],
   "source": [
    "print(x)\n",
    "print(y)"
   ]
  },
  {
   "cell_type": "code",
   "execution_count": null,
   "id": "92d80695",
   "metadata": {},
   "outputs": [],
   "source": []
  }
 ],
 "metadata": {
  "kernelspec": {
   "display_name": "Python 3 (ipykernel)",
   "language": "python",
   "name": "python3"
  },
  "language_info": {
   "codemirror_mode": {
    "name": "ipython",
    "version": 3
   },
   "file_extension": ".py",
   "mimetype": "text/x-python",
   "name": "python",
   "nbconvert_exporter": "python",
   "pygments_lexer": "ipython3",
   "version": "3.9.7"
  }
 },
 "nbformat": 4,
 "nbformat_minor": 5
}
